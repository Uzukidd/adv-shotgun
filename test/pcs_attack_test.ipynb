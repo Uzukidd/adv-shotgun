{
 "cells": [
  {
   "cell_type": "code",
   "execution_count": 1,
   "metadata": {},
   "outputs": [],
   "source": [
    "import torch\n",
    "import torch.nn as nn\n",
    "import torch.nn.functional as F\n",
    "import numpy as np\n",
    "import pickle as pkl\n",
    "\n",
    "import matplotlib.pyplot as plt\n",
    "from tqdm import tqdm\n",
    "\n",
    "from advshotgun import adversary_image\n",
    "from advshotgun.pretrained_models import pointnet_cls\n",
    "from advshotgun.attacks.white_box import iFGSM, FGSM, randomize_attack\n",
    "from torchvision import models, datasets, transforms\n",
    "from torchvision.utils import save_image\n",
    "from torch.utils.data import DataLoader"
   ]
  },
  {
   "cell_type": "code",
   "execution_count": 2,
   "metadata": {},
   "outputs": [],
   "source": [
    "modelnet_40_dataset = None\n",
    "batch_size = 1\n",
    "data_path = \"./data/modelNet40_batch1_1000batches_test.pkl.clean\"\n",
    "with open(data_path, \"rb\") as inputs:\n",
    "    modelnet_40_dataset = pkl.load(inputs)"
   ]
  },
  {
   "cell_type": "code",
   "execution_count": 3,
   "metadata": {},
   "outputs": [],
   "source": [
    "model = pointnet_cls.build_pointnet_cls(\"./pointnet_cls.pth\")\n",
    "model = model.eval()\n",
    "model = model.cuda()"
   ]
  },
  {
   "cell_type": "code",
   "execution_count": 4,
   "metadata": {},
   "outputs": [
    {
     "name": "stdout",
     "output_type": "stream",
     "text": [
      "tensor([[-1.1802e-05, -1.9905e+01, -1.2795e+01, -1.3176e+01, -1.6167e+01,\n",
      "         -2.2337e+01, -1.4363e+01, -1.8330e+01, -1.3918e+01, -2.4226e+01,\n",
      "         -1.6170e+01, -1.8035e+01, -1.9981e+01, -1.9196e+01, -2.2407e+01,\n",
      "         -1.5592e+01, -2.1483e+01, -1.4673e+01, -1.6654e+01, -1.8067e+01,\n",
      "         -1.6475e+01, -2.0248e+01, -1.8747e+01, -1.9623e+01, -1.8007e+01,\n",
      "         -1.3482e+01, -1.3362e+01, -1.8877e+01, -1.9753e+01, -1.8119e+01,\n",
      "         -1.4747e+01, -1.8300e+01, -1.8832e+01, -1.4136e+01, -1.7165e+01,\n",
      "         -1.9348e+01, -1.4703e+01, -1.8221e+01, -2.0503e+01, -1.9114e+01]],\n",
      "       device='cuda:0', grad_fn=<LogSoftmaxBackward0>)\n"
     ]
    }
   ],
   "source": [
    "for data in modelnet_40_dataset:\n",
    "    x = torch.from_numpy(data[0][np.newaxis, :]).cuda()\n",
    "    logits = model(x[:, :, :3].transpose(1,2))\n",
    "    break"
   ]
  }
 ],
 "metadata": {
  "kernelspec": {
   "display_name": "env_advshotgun_dev",
   "language": "python",
   "name": "python3"
  },
  "language_info": {
   "codemirror_mode": {
    "name": "ipython",
    "version": 3
   },
   "file_extension": ".py",
   "mimetype": "text/x-python",
   "name": "python",
   "nbconvert_exporter": "python",
   "pygments_lexer": "ipython3",
   "version": "3.11.4"
  },
  "orig_nbformat": 4
 },
 "nbformat": 4,
 "nbformat_minor": 2
}
