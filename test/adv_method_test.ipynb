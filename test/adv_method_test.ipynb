{
 "cells": [
  {
   "cell_type": "code",
   "execution_count": 1,
   "metadata": {},
   "outputs": [],
   "source": [
    "import torch\n",
    "import torch.nn as nn\n",
    "import torch.nn.functional as F\n",
    "import numpy as np\n",
    "\n",
    "import matplotlib.pyplot as plt\n",
    "from tqdm import tqdm\n",
    "\n",
    "from advshotgun import adversary_image\n",
    "from advshotgun.pretrained_models import Basic_CNN\n",
    "from advshotgun.attacks.white_box import iFGSM, FGSM, randomize_attack\n",
    "from torchvision import models, datasets, transforms\n",
    "from torchvision.utils import save_image\n",
    "from torch.utils.data import DataLoader"
   ]
  },
  {
   "cell_type": "code",
   "execution_count": 2,
   "metadata": {},
   "outputs": [
    {
     "name": "stdout",
     "output_type": "stream",
     "text": [
      "device:cuda\n"
     ]
    }
   ],
   "source": [
    "seed = 2023\n",
    "torch.manual_seed(seed)\n",
    "use_cuda = torch.cuda.is_available()\n",
    "device = torch.device('cuda' if use_cuda else 'cpu')\n",
    "print(f\"device:{device}\")"
   ]
  },
  {
   "cell_type": "code",
   "execution_count": 3,
   "metadata": {},
   "outputs": [
    {
     "name": "stdout",
     "output_type": "stream",
     "text": [
      "number of classess:10\n",
      "train size:60000\n",
      "test size:10000\n"
     ]
    }
   ],
   "source": [
    "batch_size = 8\n",
    "\n",
    "mnist_train = datasets.MNIST(root='./data', train=True, download=True, transform=transforms.Compose([transforms.ToTensor()]))\n",
    "mnist_test = datasets.MNIST(root='./data', train=False, download=True, transform=transforms.Compose([transforms.ToTensor()]))\n",
    "\n",
    "num_classes = mnist_train.classes.__len__()\n",
    "class_logit = torch.eye(num_classes).cuda()\n",
    "\n",
    "print(f\"number of classess:{num_classes}\")\n",
    "print(f\"train size:{mnist_train.__len__()}\")\n",
    "print(f\"test size:{mnist_test.__len__()}\")\n",
    "\n",
    "train_dataloader = DataLoader(mnist_train, batch_size = batch_size, shuffle=True)\n",
    "test_dataloader = DataLoader(mnist_test, batch_size = batch_size, shuffle=False)\n"
   ]
  },
  {
   "cell_type": "code",
   "execution_count": 4,
   "metadata": {},
   "outputs": [
    {
     "data": {
      "text/plain": [
       "Basic_CNN(\n",
       "  (conv1_1): Conv2d(1, 32, kernel_size=(3, 3), stride=(1, 1), padding=(1, 1))\n",
       "  (conv1_2): Conv2d(32, 32, kernel_size=(3, 3), stride=(1, 1), padding=(1, 1))\n",
       "  (maxpool1): MaxPool2d(kernel_size=2, stride=2, padding=0, dilation=1, ceil_mode=False)\n",
       "  (conv2_1): Conv2d(32, 64, kernel_size=(3, 3), stride=(1, 1), padding=(1, 1))\n",
       "  (conv2_2): Conv2d(64, 64, kernel_size=(3, 3), stride=(1, 1), padding=(1, 1))\n",
       "  (maxpool2): MaxPool2d(kernel_size=2, stride=2, padding=0, dilation=1, ceil_mode=False)\n",
       "  (fc1): Linear(in_features=3136, out_features=200, bias=True)\n",
       "  (fc2): Linear(in_features=200, out_features=10, bias=True)\n",
       ")"
      ]
     },
     "execution_count": 4,
     "metadata": {},
     "output_type": "execute_result"
    }
   ],
   "source": [
    "model = Basic_CNN.build_Basic_CNN(\"9920.pth.tar\")\n",
    "model.cuda()\n",
    "model.eval()"
   ]
  },
  {
   "cell_type": "code",
   "execution_count": 7,
   "metadata": {},
   "outputs": [],
   "source": [
    "fgsm = FGSM(eps=0.05)\n",
    "ifgsm = iFGSM(eps=0.05, iteration=3)\n",
    "benchmark_method = randomize_attack(eps = 0.05)"
   ]
  },
  {
   "cell_type": "code",
   "execution_count": 8,
   "metadata": {},
   "outputs": [
    {
     "name": "stderr",
     "output_type": "stream",
     "text": [
      "1it [00:00, 10.86it/s]"
     ]
    },
    {
     "name": "stdout",
     "output_type": "stream",
     "text": [
      "accuracy:1.0\n",
      "->\n",
      "accuracy:0.75\n",
      "L2 norm:1.0760128498077393\n",
      "accuracy:1.0\n",
      "->\n",
      "accuracy:1.0\n",
      "L2 norm:1.04994797706604\n",
      "accuracy:1.0\n",
      "->\n",
      "accuracy:0.0\n",
      "L2 norm:2.691500663757324\n"
     ]
    },
    {
     "name": "stderr",
     "output_type": "stream",
     "text": [
      "\n"
     ]
    }
   ],
   "source": [
    "batch_upper_bound = 1\n",
    "for batch_idx, (x, gt) in tqdm(enumerate(test_dataloader)):\n",
    "    if batch_idx == batch_upper_bound:\n",
    "        break\n",
    "    x = x.cuda()\n",
    "    gt = class_logit[gt.cuda()]\n",
    "    adv = adversary_image(x, gt, batch_size)\n",
    "    adv.set_attack_method(fgsm)\n",
    "    adv.set_victim_model(model)\n",
    "    adv.evaluate()\n",
    "    \n",
    "    adv.set_attack_method(benchmark_method)\n",
    "    adv.evaluate()\n",
    "    \n",
    "    adv.set_attack_method(ifgsm)\n",
    "    adv.evaluate()"
   ]
  }
 ],
 "metadata": {
  "kernelspec": {
   "display_name": "env_advshotgun_dev",
   "language": "python",
   "name": "python3"
  },
  "language_info": {
   "codemirror_mode": {
    "name": "ipython",
    "version": 3
   },
   "file_extension": ".py",
   "mimetype": "text/x-python",
   "name": "python",
   "nbconvert_exporter": "python",
   "pygments_lexer": "ipython3",
   "version": "3.11.4"
  },
  "orig_nbformat": 4
 },
 "nbformat": 4,
 "nbformat_minor": 2
}
