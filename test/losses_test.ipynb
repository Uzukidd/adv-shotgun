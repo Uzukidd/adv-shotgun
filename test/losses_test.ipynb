{
 "cells": [
  {
   "cell_type": "code",
   "execution_count": 1,
   "metadata": {},
   "outputs": [],
   "source": [
    "import torch\n",
    "from advshotgun.utils import norm_l2_loss"
   ]
  },
  {
   "cell_type": "code",
   "execution_count": 4,
   "metadata": {},
   "outputs": [
    {
     "name": "stdout",
     "output_type": "stream",
     "text": [
      "tensor([33.4696, 32.3208, 33.6825, 33.2286, 34.7914, 33.9639, 33.4251, 34.4224])\n",
      "tensor([33.4696, 32.3208, 33.6825, 33.2286, 34.7914, 33.9639, 33.4251, 34.4224])\n"
     ]
    }
   ],
   "source": [
    "x = torch.randn((8, 24, 24))\n",
    "y = torch.randn((8, 24, 24))\n",
    "\n",
    "l2 = torch.pow(x - y, 2.0).sum((1, 2)).sqrt()\n",
    "\n",
    "print(l2)\n",
    "print(norm_l2_loss(x, y))"
   ]
  }
 ],
 "metadata": {
  "kernelspec": {
   "display_name": "env_advshotgun_dev",
   "language": "python",
   "name": "python3"
  },
  "language_info": {
   "codemirror_mode": {
    "name": "ipython",
    "version": 3
   },
   "file_extension": ".py",
   "mimetype": "text/x-python",
   "name": "python",
   "nbconvert_exporter": "python",
   "pygments_lexer": "ipython3",
   "version": "3.11.4"
  },
  "orig_nbformat": 4
 },
 "nbformat": 4,
 "nbformat_minor": 2
}
